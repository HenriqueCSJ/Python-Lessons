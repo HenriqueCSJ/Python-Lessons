{
<<<<<<< HEAD
 "cells": [],
 "metadata": {},
=======
 "cells": [
  {
   "cell_type": "code",
   "execution_count": 3,
   "metadata": {},
   "outputs": [],
   "source": [
    "from darksky import forecast\n",
    "from datetime import date, timedelta"
   ]
  },
  {
   "cell_type": "code",
   "execution_count": 2,
   "metadata": {},
   "outputs": [],
   "source": [
    "s_key = \"36258cb79ea601afeefe44a7a047ed1b\""
   ]
  },
  {
   "cell_type": "code",
   "execution_count": 6,
   "metadata": {},
   "outputs": [
    {
     "name": "stdout",
     "output_type": "stream",
     "text": [
      "Light rain today through Monday, with high temperatures peaking at 100°F on Saturday.\n",
      "---\n",
      "Tue: Light rain starting in the afternoon, continuing until evening. Temp range: 75.8 - 97.73\n",
      "Wed: Light rain starting in the afternoon. Temp range: 71.82 - 98.23\n",
      "Thu: Mostly cloudy throughout the day. Temp range: 70.1 - 99.93\n",
      "Fri: Rain starting in the afternoon, continuing until evening. Temp range: 71.74 - 97.09\n",
      "Sat: Light rain starting in the evening. Temp range: 73.04 - 100.33\n",
      "Sun: Light rain starting in the afternoon, continuing until evening. Temp range: 72.52 - 92.77\n",
      "Mon: Rain starting in the afternoon, continuing until evening. Temp range: 71.79 - 89.2\n",
      "Tue: Partly cloudy throughout the day. Temp range: 73.81 - 94.09\n"
     ]
    }
   ],
   "source": [
    "PARACAMBI = -22.6117,-43.711\n",
    "\n",
    "weekday = date.today()\n",
    "with forecast(s_key, *PARACAMBI) as paracambi:\n",
    "    print(paracambi.daily.summary, end='\\n---\\n')\n",
    "    for day in paracambi.daily:\n",
    "        day = dict(day = date.strftime(weekday, '%a'),\n",
    "                   sum = day.summary,\n",
    "                   tempMin = day.temperatureMin,\n",
    "                   tempMax = day.temperatureMax\n",
    "                   )\n",
    "        print('{day}: {sum} Temp range: {tempMin} - {tempMax}'.format(**day))\n",
    "        weekday += timedelta(days=1)"
   ]
  },
  {
   "cell_type": "code",
   "execution_count": null,
   "metadata": {},
   "outputs": [],
   "source": []
  }
 ],
 "metadata": {
  "kernelspec": {
   "display_name": "Python 3",
   "language": "python",
   "name": "python3"
  },
  "language_info": {
   "codemirror_mode": {
    "name": "ipython",
    "version": 3
   },
   "file_extension": ".py",
   "mimetype": "text/x-python",
   "name": "python",
   "nbconvert_exporter": "python",
   "pygments_lexer": "ipython3",
   "version": "3.7.2"
  }
 },
>>>>>>> 9c9b6842907599485b121d4d4afe1a04b5dca738
 "nbformat": 4,
 "nbformat_minor": 2
}
