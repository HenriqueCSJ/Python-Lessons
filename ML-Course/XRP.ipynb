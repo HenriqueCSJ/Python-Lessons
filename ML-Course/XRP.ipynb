{
 "cells": [
  {
   "cell_type": "markdown",
   "metadata": {},
   "source": [
    "# XRP"
   ]
  },
  {
   "cell_type": "code",
   "execution_count": 1,
   "metadata": {},
   "outputs": [],
   "source": [
    "import pandas as pd\n",
    "import numpy as np\n",
    "import seaborn as sns\n",
    "import matplotlib.pyplot as plt"
   ]
  },
  {
   "cell_type": "code",
   "execution_count": 2,
   "metadata": {},
   "outputs": [],
   "source": [
    "df = pd.read_csv(\"XRP_USD Poloniex Historical Data.csv\")"
   ]
  },
  {
   "cell_type": "code",
   "execution_count": 4,
   "metadata": {},
   "outputs": [],
   "source": [
    "df[\"Date\"] = pd.to_datetime(df[\"Date\"], infer_datetime_format=True)"
   ]
  },
  {
   "cell_type": "code",
   "execution_count": 6,
   "metadata": {},
   "outputs": [
    {
     "data": {
      "text/html": [
       "<div>\n",
       "<style scoped>\n",
       "    .dataframe tbody tr th:only-of-type {\n",
       "        vertical-align: middle;\n",
       "    }\n",
       "\n",
       "    .dataframe tbody tr th {\n",
       "        vertical-align: top;\n",
       "    }\n",
       "\n",
       "    .dataframe thead th {\n",
       "        text-align: right;\n",
       "    }\n",
       "</style>\n",
       "<table border=\"1\" class=\"dataframe\">\n",
       "  <thead>\n",
       "    <tr style=\"text-align: right;\">\n",
       "      <th></th>\n",
       "      <th>Date</th>\n",
       "      <th>Price</th>\n",
       "      <th>Open</th>\n",
       "      <th>High</th>\n",
       "      <th>Low</th>\n",
       "      <th>Vol.</th>\n",
       "      <th>Change %</th>\n",
       "    </tr>\n",
       "  </thead>\n",
       "  <tbody>\n",
       "    <tr>\n",
       "      <th>0</th>\n",
       "      <td>2019-01-15</td>\n",
       "      <td>0.31860</td>\n",
       "      <td>0.32900</td>\n",
       "      <td>0.33107</td>\n",
       "      <td>0.31700</td>\n",
       "      <td>561.19K</td>\n",
       "      <td>-3.16%</td>\n",
       "    </tr>\n",
       "    <tr>\n",
       "      <th>1</th>\n",
       "      <td>2019-01-14</td>\n",
       "      <td>0.32900</td>\n",
       "      <td>0.31046</td>\n",
       "      <td>0.33500</td>\n",
       "      <td>0.31046</td>\n",
       "      <td>945.02K</td>\n",
       "      <td>5.97%</td>\n",
       "    </tr>\n",
       "    <tr>\n",
       "      <th>2</th>\n",
       "      <td>2019-01-13</td>\n",
       "      <td>0.31046</td>\n",
       "      <td>0.32634</td>\n",
       "      <td>0.32879</td>\n",
       "      <td>0.30777</td>\n",
       "      <td>769.79K</td>\n",
       "      <td>-4.86%</td>\n",
       "    </tr>\n",
       "    <tr>\n",
       "      <th>3</th>\n",
       "      <td>2019-01-12</td>\n",
       "      <td>0.32634</td>\n",
       "      <td>0.32472</td>\n",
       "      <td>0.32926</td>\n",
       "      <td>0.32217</td>\n",
       "      <td>337.44K</td>\n",
       "      <td>0.50%</td>\n",
       "    </tr>\n",
       "    <tr>\n",
       "      <th>4</th>\n",
       "      <td>2019-01-11</td>\n",
       "      <td>0.32472</td>\n",
       "      <td>0.32547</td>\n",
       "      <td>0.33299</td>\n",
       "      <td>0.32000</td>\n",
       "      <td>1.08M</td>\n",
       "      <td>-0.23%</td>\n",
       "    </tr>\n",
       "  </tbody>\n",
       "</table>\n",
       "</div>"
      ],
      "text/plain": [
       "        Date    Price     Open     High      Low     Vol. Change %\n",
       "0 2019-01-15  0.31860  0.32900  0.33107  0.31700  561.19K   -3.16%\n",
       "1 2019-01-14  0.32900  0.31046  0.33500  0.31046  945.02K    5.97%\n",
       "2 2019-01-13  0.31046  0.32634  0.32879  0.30777  769.79K   -4.86%\n",
       "3 2019-01-12  0.32634  0.32472  0.32926  0.32217  337.44K    0.50%\n",
       "4 2019-01-11  0.32472  0.32547  0.33299  0.32000    1.08M   -0.23%"
      ]
     },
     "execution_count": 6,
     "metadata": {},
     "output_type": "execute_result"
    }
   ],
   "source": [
    "df.head()"
   ]
  },
  {
   "cell_type": "code",
   "execution_count": 7,
   "metadata": {},
   "outputs": [
    {
     "name": "stdout",
     "output_type": "stream",
     "text": [
      "<class 'pandas.core.frame.DataFrame'>\n",
      "RangeIndex: 1446 entries, 0 to 1445\n",
      "Data columns (total 7 columns):\n",
      "Date        1446 non-null datetime64[ns]\n",
      "Price       1446 non-null float64\n",
      "Open        1446 non-null float64\n",
      "High        1446 non-null float64\n",
      "Low         1446 non-null float64\n",
      "Vol.        1446 non-null object\n",
      "Change %    1446 non-null object\n",
      "dtypes: datetime64[ns](1), float64(4), object(2)\n",
      "memory usage: 79.2+ KB\n"
     ]
    }
   ],
   "source": [
    "df.info()"
   ]
  },
  {
   "cell_type": "code",
   "execution_count": 10,
   "metadata": {},
   "outputs": [],
   "source": [
    "def value_to_float(x):\n",
    "    if type(x) == float or type(x) == int:\n",
    "        return x\n",
    "    if 'K' in x:\n",
    "        if len(x) > 1:\n",
    "            return float(x.replace('K', '')) * 1000\n",
    "        return 1000.0\n",
    "    if 'M' in x:\n",
    "        if len(x) > 1:\n",
    "            return float(x.replace('M', '')) * 1000000\n",
    "        return 1000000.0\n",
    "    if 'B' in x:\n",
    "        return float(x.replace('B', '')) * 1000000000\n",
    "    return 0.0"
   ]
  },
  {
   "cell_type": "code",
   "execution_count": 11,
   "metadata": {},
   "outputs": [
    {
     "data": {
      "text/plain": [
       "Index(['Date', 'Price', 'Open', 'High', 'Low', 'Vol.', 'Change %'], dtype='object')"
      ]
     },
     "execution_count": 11,
     "metadata": {},
     "output_type": "execute_result"
    }
   ],
   "source": [
    "df.columns"
   ]
  },
  {
   "cell_type": "code",
   "execution_count": 12,
   "metadata": {},
   "outputs": [],
   "source": [
    "df[\"Vol.\"] = df[\"Vol.\"].apply(value_to_float)"
   ]
  },
  {
   "cell_type": "code",
   "execution_count": 13,
   "metadata": {},
   "outputs": [
    {
     "data": {
      "text/html": [
       "<div>\n",
       "<style scoped>\n",
       "    .dataframe tbody tr th:only-of-type {\n",
       "        vertical-align: middle;\n",
       "    }\n",
       "\n",
       "    .dataframe tbody tr th {\n",
       "        vertical-align: top;\n",
       "    }\n",
       "\n",
       "    .dataframe thead th {\n",
       "        text-align: right;\n",
       "    }\n",
       "</style>\n",
       "<table border=\"1\" class=\"dataframe\">\n",
       "  <thead>\n",
       "    <tr style=\"text-align: right;\">\n",
       "      <th></th>\n",
       "      <th>Date</th>\n",
       "      <th>Price</th>\n",
       "      <th>Open</th>\n",
       "      <th>High</th>\n",
       "      <th>Low</th>\n",
       "      <th>Vol.</th>\n",
       "      <th>Change %</th>\n",
       "    </tr>\n",
       "  </thead>\n",
       "  <tbody>\n",
       "    <tr>\n",
       "      <th>0</th>\n",
       "      <td>2019-01-15</td>\n",
       "      <td>0.31860</td>\n",
       "      <td>0.32900</td>\n",
       "      <td>0.33107</td>\n",
       "      <td>0.31700</td>\n",
       "      <td>561190.0</td>\n",
       "      <td>-3.16%</td>\n",
       "    </tr>\n",
       "    <tr>\n",
       "      <th>1</th>\n",
       "      <td>2019-01-14</td>\n",
       "      <td>0.32900</td>\n",
       "      <td>0.31046</td>\n",
       "      <td>0.33500</td>\n",
       "      <td>0.31046</td>\n",
       "      <td>945020.0</td>\n",
       "      <td>5.97%</td>\n",
       "    </tr>\n",
       "    <tr>\n",
       "      <th>2</th>\n",
       "      <td>2019-01-13</td>\n",
       "      <td>0.31046</td>\n",
       "      <td>0.32634</td>\n",
       "      <td>0.32879</td>\n",
       "      <td>0.30777</td>\n",
       "      <td>769790.0</td>\n",
       "      <td>-4.86%</td>\n",
       "    </tr>\n",
       "    <tr>\n",
       "      <th>3</th>\n",
       "      <td>2019-01-12</td>\n",
       "      <td>0.32634</td>\n",
       "      <td>0.32472</td>\n",
       "      <td>0.32926</td>\n",
       "      <td>0.32217</td>\n",
       "      <td>337440.0</td>\n",
       "      <td>0.50%</td>\n",
       "    </tr>\n",
       "    <tr>\n",
       "      <th>4</th>\n",
       "      <td>2019-01-11</td>\n",
       "      <td>0.32472</td>\n",
       "      <td>0.32547</td>\n",
       "      <td>0.33299</td>\n",
       "      <td>0.32000</td>\n",
       "      <td>1080000.0</td>\n",
       "      <td>-0.23%</td>\n",
       "    </tr>\n",
       "  </tbody>\n",
       "</table>\n",
       "</div>"
      ],
      "text/plain": [
       "        Date    Price     Open     High      Low       Vol. Change %\n",
       "0 2019-01-15  0.31860  0.32900  0.33107  0.31700   561190.0   -3.16%\n",
       "1 2019-01-14  0.32900  0.31046  0.33500  0.31046   945020.0    5.97%\n",
       "2 2019-01-13  0.31046  0.32634  0.32879  0.30777   769790.0   -4.86%\n",
       "3 2019-01-12  0.32634  0.32472  0.32926  0.32217   337440.0    0.50%\n",
       "4 2019-01-11  0.32472  0.32547  0.33299  0.32000  1080000.0   -0.23%"
      ]
     },
     "execution_count": 13,
     "metadata": {},
     "output_type": "execute_result"
    }
   ],
   "source": [
    "df.head()"
   ]
  },
  {
   "cell_type": "code",
   "execution_count": 15,
   "metadata": {},
   "outputs": [
    {
     "data": {
      "text/html": [
       "<div>\n",
       "<style scoped>\n",
       "    .dataframe tbody tr th:only-of-type {\n",
       "        vertical-align: middle;\n",
       "    }\n",
       "\n",
       "    .dataframe tbody tr th {\n",
       "        vertical-align: top;\n",
       "    }\n",
       "\n",
       "    .dataframe thead th {\n",
       "        text-align: right;\n",
       "    }\n",
       "</style>\n",
       "<table border=\"1\" class=\"dataframe\">\n",
       "  <thead>\n",
       "    <tr style=\"text-align: right;\">\n",
       "      <th></th>\n",
       "      <th>Price</th>\n",
       "      <th>Open</th>\n",
       "      <th>High</th>\n",
       "      <th>Low</th>\n",
       "      <th>Vol.</th>\n",
       "    </tr>\n",
       "  </thead>\n",
       "  <tbody>\n",
       "    <tr>\n",
       "      <th>Price</th>\n",
       "      <td>1.000000</td>\n",
       "      <td>0.992924</td>\n",
       "      <td>0.996901</td>\n",
       "      <td>0.994602</td>\n",
       "      <td>0.228275</td>\n",
       "    </tr>\n",
       "    <tr>\n",
       "      <th>Open</th>\n",
       "      <td>0.992924</td>\n",
       "      <td>1.000000</td>\n",
       "      <td>0.994951</td>\n",
       "      <td>0.993535</td>\n",
       "      <td>0.212277</td>\n",
       "    </tr>\n",
       "    <tr>\n",
       "      <th>High</th>\n",
       "      <td>0.996901</td>\n",
       "      <td>0.994951</td>\n",
       "      <td>1.000000</td>\n",
       "      <td>0.990573</td>\n",
       "      <td>0.242634</td>\n",
       "    </tr>\n",
       "    <tr>\n",
       "      <th>Low</th>\n",
       "      <td>0.994602</td>\n",
       "      <td>0.993535</td>\n",
       "      <td>0.990573</td>\n",
       "      <td>1.000000</td>\n",
       "      <td>0.193975</td>\n",
       "    </tr>\n",
       "    <tr>\n",
       "      <th>Vol.</th>\n",
       "      <td>0.228275</td>\n",
       "      <td>0.212277</td>\n",
       "      <td>0.242634</td>\n",
       "      <td>0.193975</td>\n",
       "      <td>1.000000</td>\n",
       "    </tr>\n",
       "  </tbody>\n",
       "</table>\n",
       "</div>"
      ],
      "text/plain": [
       "          Price      Open      High       Low      Vol.\n",
       "Price  1.000000  0.992924  0.996901  0.994602  0.228275\n",
       "Open   0.992924  1.000000  0.994951  0.993535  0.212277\n",
       "High   0.996901  0.994951  1.000000  0.990573  0.242634\n",
       "Low    0.994602  0.993535  0.990573  1.000000  0.193975\n",
       "Vol.   0.228275  0.212277  0.242634  0.193975  1.000000"
      ]
     },
     "execution_count": 15,
     "metadata": {},
     "output_type": "execute_result"
    }
   ],
   "source": [
    "df.corr()"
   ]
  },
  {
   "cell_type": "code",
   "execution_count": 21,
   "metadata": {},
   "outputs": [
    {
     "data": {
      "text/plain": [
       "<matplotlib.axes._subplots.AxesSubplot at 0x1716dca52b0>"
      ]
     },
     "execution_count": 21,
     "metadata": {},
     "output_type": "execute_result"
    },
    {
     "data": {
      "image/png": "[encoded data removed]",
      "text/plain": [
       "<Figure size 1080x288 with 1 Axes>"
      ]
     },
     "metadata": {
      "needs_background": "light"
     },
     "output_type": "display_data"
    }
   ],
   "source": [
    "plt.figure(figsize=(15, 4))\n",
    "sns.lineplot(x=\"Date\", y=\"Price\", data=df)"
   ]
  },
  {
   "cell_type": "code",
   "execution_count": null,
   "metadata": {},
   "outputs": [],
   "source": []
  }
 ],
 "metadata": {
  "kernelspec": {
   "display_name": "Python 3",
   "language": "python",
   "name": "python3"
  },
  "language_info": {
   "codemirror_mode": {
    "name": "ipython",
    "version": 3
   },
   "file_extension": ".py",
   "mimetype": "text/x-python",
   "name": "python",
   "nbconvert_exporter": "python",
   "pygments_lexer": "ipython3",
   "version": "3.7.2"
  }
 },
 "nbformat": 4,
 "nbformat_minor": 2
}
