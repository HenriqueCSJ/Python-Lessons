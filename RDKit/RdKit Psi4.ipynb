{
 "cells": [
  {
   "cell_type": "code",
   "execution_count": 1,
   "metadata": {},
   "outputs": [],
   "source": [
    "import pandas as pd\n",
    "import numpy as np\n",
    "import matplotlib.pyplot as plt\n",
    "import seaborn as sns\n",
    "import pandas as pd\n",
    "import psi4\n",
    "from rdkit import Chem\n",
    "from rdkit.Chem import AllChem\n",
    "from rdkit.Chem.Draw import IPythonConsole\n",
    "from rdkit.Chem import Draw"
   ]
  },
  {
   "cell_type": "code",
   "execution_count": 3,
   "metadata": {},
   "outputs": [],
   "source": [
    "psi4.core.set_output_file(\"output1.dat\", True)\n",
    "def mol2xyz(mol):\n",
    "    mol = Chem.AddHs(mol)\n",
    "    AllChem.EmbedMolecule(mol, useExpTorsionAnglePrefs=True,useBasicKnowledge=True)\n",
    "    AllChem.UFFOptimizeMolecule(mol)\n",
    "    atoms = mol.GetAtoms()\n",
    "    string = \"\\n\"\n",
    "    for i, atom in enumerate(atoms):\n",
    "        pos = mol.GetConformer().GetAtomPosition(atom.GetIdx())\n",
    "        string += \"{} {} {} {}\\n\".format(atom.GetSymbol(), pos.x, pos.y, pos.z)\n",
    "    string += \"units angstrom\\n\"\n",
    "    return string, mol"
   ]
  },
  {
   "cell_type": "code",
   "execution_count": 4,
   "metadata": {},
   "outputs": [
    {
     "name": "stdout",
     "output_type": "stream",
     "text": [
      "Optimizer: Optimization complete!\n",
      "CPU times: user 1min 15s, sys: 843 ms, total: 1min 16s\n",
      "Wall time: 21.5 s\n"
     ]
    }
   ],
   "source": [
    "mol = Chem.MolFromSmiles(\"CC(=O)O\")\n",
    "xyz, mol=mol2xyz(mol)\n",
    "psi4.set_memory('4 GB')\n",
    "psi4.set_num_threads(4)\n",
    "benz = psi4.geometry(xyz)\n",
    "%time scf_e, scf_wfn = psi4.optimize(\"PBE/def2-SVP\", return_wfn=True)"
   ]
  },
  {
   "cell_type": "code",
   "execution_count": 23,
   "metadata": {},
   "outputs": [
    {
     "name": "stdout",
     "output_type": "stream",
     "text": [
      "-0.02893072977583327 0.029207165346961682 -228.66012186147856 None\n"
     ]
    }
   ],
   "source": [
    "HOMO = scf_wfn.epsilon_a_subset('AO', 'ALL').np[scf_wfn.nalpha()]\n",
    "LUMO = scf_wfn.epsilon_a_subset('AO', 'ALL').np[scf_wfn.nalpha() + 1]\n",
    "print(HOMO, LUMO, scf_e, dipole)"
   ]
  },
  {
   "cell_type": "code",
   "execution_count": 24,
   "metadata": {},
   "outputs": [
    {
     "name": "stdout",
     "output_type": "stream",
     "text": [
      "None\n"
     ]
    }
   ],
   "source": [
    "print(psi4.oeprop(scf_wfn, 'DIPOLE'))"
   ]
  },
  {
   "cell_type": "code",
   "execution_count": null,
   "metadata": {},
   "outputs": [],
   "source": [
    "scf_wfn.compute_E()"
   ]
  },
  {
   "cell_type": "code",
   "execution_count": 5,
   "metadata": {},
   "outputs": [
    {
     "name": "stdout",
     "output_type": "stream",
     "text": [
      "<rdkit.Chem.rdchem.Mol object at 0x7f99286995d0>\n"
     ]
    }
   ],
   "source": [
    "print(mol)"
   ]
  },
  {
   "cell_type": "code",
   "execution_count": null,
   "metadata": {},
   "outputs": [],
   "source": []
  }
 ],
 "metadata": {
  "kernelspec": {
   "display_name": "Python 3",
   "language": "python",
   "name": "python3"
  },
  "language_info": {
   "codemirror_mode": {
    "name": "ipython",
    "version": 3
   },
   "file_extension": ".py",
   "mimetype": "text/x-python",
   "name": "python",
   "nbconvert_exporter": "python",
   "pygments_lexer": "ipython3",
   "version": "3.7.1"
  }
 },
 "nbformat": 4,
 "nbformat_minor": 2
}
