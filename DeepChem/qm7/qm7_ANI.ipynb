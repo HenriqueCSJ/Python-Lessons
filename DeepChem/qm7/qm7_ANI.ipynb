{
 "cells": [
  {
   "cell_type": "code",
   "execution_count": 1,
   "metadata": {},
   "outputs": [
    {
     "name": "stderr",
     "output_type": "stream",
     "text": [
      "/home/henrique/bin/anaconda3/envs/deepchem/lib/python3.6/site-packages/sklearn/ensemble/weight_boosting.py:29: DeprecationWarning: numpy.core.umath_tests is an internal NumPy module and should not be imported. It will be removed in a future NumPy release.\n",
      "  from numpy.core.umath_tests import inner1d\n"
     ]
    }
   ],
   "source": [
    "import numpy as np\n",
    "np.random.seed(123)\n",
    "import tensorflow as tf\n",
    "tf.set_random_seed(123)\n",
    "import deepchem as dc"
   ]
  },
  {
   "cell_type": "code",
   "execution_count": 2,
   "metadata": {},
   "outputs": [
    {
     "name": "stdout",
     "output_type": "stream",
     "text": [
      "TIMING: dataset construction took 0.143 s\n",
      "Loading dataset from disk.\n",
      "TIMING: dataset construction took 0.168 s\n",
      "Loading dataset from disk.\n",
      "TIMING: dataset construction took 0.048 s\n",
      "Loading dataset from disk.\n",
      "TIMING: dataset construction took 0.048 s\n",
      "Loading dataset from disk.\n",
      "TIMING: dataset construction took 0.152 s\n",
      "Loading dataset from disk.\n",
      "TIMING: dataset construction took 0.022 s\n",
      "Loading dataset from disk.\n",
      "TIMING: dataset construction took 0.022 s\n",
      "Loading dataset from disk.\n"
     ]
    }
   ],
   "source": [
    "tasks, datasets, transformers = dc.molnet.load_qm7_from_mat(\n",
    "    featurizer='BPSymmetryFunction', split='stratified', move_mean=False)\n",
    "\n",
    "train, valid, test = datasets"
   ]
  },
  {
   "cell_type": "code",
   "execution_count": 3,
   "metadata": {},
   "outputs": [],
   "source": [
    "# Batch size of models\n",
    "max_atoms = 23\n",
    "batch_size = 128\n",
    "layer_structures = [64, 64, 32]\n",
    "atom_number_cases = [1, 6, 7, 8, 16]"
   ]
  },
  {
   "cell_type": "code",
   "execution_count": 4,
   "metadata": {},
   "outputs": [],
   "source": [
    "# Fit models\n",
    "metric = [\n",
    "    dc.metrics.Metric(dc.metrics.mean_absolute_error, mode=\"regression\"),\n",
    "    dc.metrics.Metric(dc.metrics.pearson_r2_score, mode=\"regression\")\n",
    "]"
   ]
  },
  {
   "cell_type": "code",
   "execution_count": 5,
   "metadata": {},
   "outputs": [],
   "source": [
    "model = dc.models.ANIRegression(\n",
    "    len(tasks),\n",
    "    max_atoms,\n",
    "    exp_loss=False,\n",
    "    activation_fn='relu',\n",
    "    layer_structures=layer_structures,\n",
    "    atom_number_cases=atom_number_cases,\n",
    "    batch_size=batch_size,\n",
    "    learning_rate=0.001,\n",
    "    use_queue=False,\n",
    "    mode=\"regression\")"
   ]
  },
  {
   "cell_type": "code",
   "execution_count": null,
   "metadata": {},
   "outputs": [
    {
     "name": "stdout",
     "output_type": "stream",
     "text": [
      "Starting epoch 0\n"
     ]
    }
   ],
   "source": [
    "\n",
    "model.fit(train, nb_epoch=50)\n",
    "\n",
    "train_scores = model.evaluate(train, metric, transformers)\n",
    "valid_scores = model.evaluate(valid, metric, transformers)"
   ]
  },
  {
   "cell_type": "code",
   "execution_count": null,
   "metadata": {},
   "outputs": [],
   "source": []
  }
 ],
 "metadata": {
  "kernelspec": {
   "display_name": "Python 3",
   "language": "python",
   "name": "python3"
  },
  "language_info": {
   "codemirror_mode": {
    "name": "ipython",
    "version": 3
   },
   "file_extension": ".py",
   "mimetype": "text/x-python",
   "name": "python",
   "nbconvert_exporter": "python",
   "pygments_lexer": "ipython3",
   "version": "3.6.6"
  }
 },
 "nbformat": 4,
 "nbformat_minor": 2
}
