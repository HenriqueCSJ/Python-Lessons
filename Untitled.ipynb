{
 "cells": [
  {
   "cell_type": "markdown",
   "metadata": {},
   "source": [
    "# Conta de Luz"
   ]
  },
  {
   "cell_type": "code",
   "execution_count": 2,
   "metadata": {},
   "outputs": [],
   "source": [
    "# Até 30 kW/h = 0.28985\n",
    "# de 31 a 100 kW/h = 0.49688\n",
    "# De 101 a 220 kW/h = 0.74532\n",
    "# > 220 kW/h = 0.82813\n",
    "\n",
    "def conta_de_luz(valor_a, valor_b):\n",
    "    consumo = valor_b - valor_a\n",
    "\n",
    "    if consumo <= 30:\n",
    "        gasto = consumo * 0.28985\n",
    "    elif consumo <= 100:\n",
    "        gasto = ((consumo - 30) * 0.49688) + (30 * 0.28985)\n",
    "    elif consumo <= 220:\n",
    "        gasto = ((consumo - 100) * 0.74532) + (70 * 0.49688) + (30 * 0.28985)\n",
    "    else:\n",
    "        gasto = ((consumo - 220) * 0.82813) + (120 * 0.74532) + \\\n",
    "            (70 * 0.49688) + (30 * 0.28985)\n",
    "\n",
    "    # Imposto\n",
    "    if consumo <= 50:\n",
    "        imposto = 0\n",
    "    elif consumo <= 300:\n",
    "        imposto = gasto*0.2\n",
    "    elif consumo <= 450:\n",
    "        imposto = gasto*0.31\n",
    "    else:\n",
    "        imposto = gasto*0.32\n",
    "\n",
    "    # Iluminação pública\n",
    "    if consumo <= 50:\n",
    "        ilum_pub = (gasto) * 0\n",
    "    elif consumo <= 100:\n",
    "        ilum_pub = 8.94\n",
    "    elif consumo <= 150:\n",
    "        ilum_pub = 13.41\n",
    "    elif consumo <= 200:\n",
    "        ilum_pub = 17.89\n",
    "    elif consumo <= 500:\n",
    "        ilum_pub = 22.38\n",
    "    else:\n",
    "        ilum_pub = 26.85\n",
    "    print(\"Consumo de {} kW/h\".format(consumo))\n",
    "    print(\"Você está pagando R$ {0:.2f} de imposto\".format(imposto))\n",
    "    print(\"Sua conta de energia elétrica é R$ {0:.2f} de consumo e R$ {1:.2f} de iluminação pública, totalizando R$ {2:.2f}\".format(\n",
    "        gasto, ilum_pub, gasto + ilum_pub))"
   ]
  },
  {
   "cell_type": "code",
   "execution_count": 6,
   "metadata": {},
   "outputs": [
    {
     "name": "stdout",
     "output_type": "stream",
     "text": [
      "Consumo de 302 kW/h\n",
      "Você está pagando R$ 62.25 de imposto\n",
      "Sua conta de energia elétrica é R$ 200.82 de consumo e R$ 22.38 de iluminação pública, totalizando R$ 223.20\n"
     ]
    }
   ],
   "source": [
    "conta_de_luz(2102, 2404)"
   ]
  },
  {
   "cell_type": "code",
   "execution_count": 7,
   "metadata": {},
   "outputs": [
    {
     "name": "stdout",
     "output_type": "stream",
     "text": [
      "Consumo de 21 kW/h\n",
      "Você está pagando R$ 0.00 de imposto\n",
      "Sua conta de energia elétrica é R$ 6.09 de consumo e R$ 0.00 de iluminação pública, totalizando R$ 6.09\n"
     ]
    }
   ],
   "source": [
    "conta_de_luz(2404, 2425)"
   ]
  },
  {
   "cell_type": "code",
   "execution_count": 10,
   "metadata": {},
   "outputs": [
    {
     "name": "stdout",
     "output_type": "stream",
     "text": [
      "6.71181656372418\n"
     ]
    }
   ],
   "source": [
    "a =\t9.16176439331299E-02\n",
    "b =\t9.99036068253655E-01\n",
    "c =\t1.41705422216711E+00\n",
    "x = 21\n",
    "y = a*(b**x)*(x**c)\n",
    "print(y)"
   ]
  },
  {
   "cell_type": "code",
   "execution_count": null,
   "metadata": {},
   "outputs": [],
   "source": []
  }
 ],
 "metadata": {
  "kernelspec": {
   "display_name": "Python 3",
   "language": "python",
   "name": "python3"
  },
  "language_info": {
   "codemirror_mode": {
    "name": "ipython",
    "version": 3
   },
   "file_extension": ".py",
   "mimetype": "text/x-python",
   "name": "python",
   "nbconvert_exporter": "python",
   "pygments_lexer": "ipython3",
   "version": "3.6.8"
  }
 },
 "nbformat": 4,
 "nbformat_minor": 2
}
