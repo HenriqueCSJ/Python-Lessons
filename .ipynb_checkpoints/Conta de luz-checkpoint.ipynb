{
 "cells": [
  {
   "cell_type": "markdown",
   "metadata": {},
   "source": [
    "# Light - Tarifas"
   ]
  },
  {
   "cell_type": "code",
   "execution_count": 44,
   "metadata": {},
   "outputs": [],
   "source": [
    "# Até 30 kW/h = 0.28985\n",
    "# de 31 a 100 kW/h = 0.49688\n",
    "# De 101 a 220 kW/h = 0.74532\n",
    "# > 220 kW/h = 0.82813"
   ]
  },
  {
   "cell_type": "code",
   "execution_count": 45,
   "metadata": {},
   "outputs": [],
   "source": [
    "val_a = 914"
   ]
  },
  {
   "cell_type": "code",
   "execution_count": 46,
   "metadata": {},
   "outputs": [],
   "source": [
    "val_b = 1215"
   ]
  },
  {
   "cell_type": "code",
   "execution_count": 47,
   "metadata": {},
   "outputs": [],
   "source": [
    "consumo = val_b - val_a"
   ]
  },
  {
   "cell_type": "code",
   "execution_count": 48,
   "metadata": {},
   "outputs": [
    {
     "data": {
      "text/plain": [
       "301"
      ]
     },
     "execution_count": 48,
     "metadata": {},
     "output_type": "execute_result"
    }
   ],
   "source": [
    "consumo"
   ]
  },
  {
   "cell_type": "code",
   "execution_count": 40,
   "metadata": {},
   "outputs": [
    {
     "name": "stdout",
     "output_type": "stream",
     "text": [
      "199.99403\n",
      "261.99217930000003\n"
     ]
    }
   ],
   "source": [
    "if consumo <= 30:\n",
    "    gasto = consumo * 0.28985\n",
    "    print(gasto)\n",
    "elif consumo <= 100:\n",
    "    gasto = ((consumo - 30) * 0.49688) + (30 * 0.28985)\n",
    "    print(gasto)\n",
    "elif consumo <= 220:\n",
    "    gasto = ((consumo - 30 - 70) * 0.74532) + (70 * 0.49688) + (30 * 0.28985)\n",
    "    print(gasto)\n",
    "else:\n",
    "    gasto = ((consumo - 30 - 70 - 120) * 0.82813) + (120 * 0.74532) + (70 * 0.49688) + (30 * 0.28985)\n",
    "    print(gasto)\n",
    "\n",
    "# Imposto\n",
    "if consumo <= 50:\n",
    "    total_imposto = gasto\n",
    "elif consumo <= 300:\n",
    "    total_imposto = gasto * 1.2\n",
    "elif consumo <= 450:\n",
    "    total_imposto = gasto * 1.31\n",
    "else:\n",
    "    total_imposto = gasto * 1.32\n",
    "print(total)\n",
    "\n",
    "# Iluminação pública\n",
    "if consumo <= 50:\n",
    "    total_luz = (gasto) * 0\n",
    "elif consumo <= 100:\n",
    "    total_luz = 8.94\n",
    "elif consumo <= 150:\n",
    "    total_luz = 13.41\n",
    "elif consumo <= 200:\n",
    "    total_luz = 17.89\n",
    "elif consumo <= 500:\n",
    "    total_luz = 22.38\n",
    "else:\n",
    "    total_luz = 26.85"
   ]
  },
  {
   "cell_type": "code",
   "execution_count": 43,
   "metadata": {},
   "outputs": [
    {
     "data": {
      "text/plain": [
       "1.699949255"
      ]
     },
     "execution_count": 43,
     "metadata": {},
     "output_type": "execute_result"
    }
   ],
   "source": [
    "(gasto/100)*0.85"
   ]
  },
  {
   "cell_type": "code",
   "execution_count": 19,
   "metadata": {},
   "outputs": [
    {
     "data": {
      "text/plain": [
       "8.6955"
      ]
     },
     "execution_count": 19,
     "metadata": {},
     "output_type": "execute_result"
    }
   ],
   "source": [
    "(30 * 0.28985)"
   ]
  },
  {
   "cell_type": "code",
   "execution_count": 18,
   "metadata": {},
   "outputs": [
    {
     "data": {
      "text/plain": [
       "34.7816"
      ]
     },
     "execution_count": 18,
     "metadata": {},
     "output_type": "execute_result"
    }
   ],
   "source": [
    "(70 * 0.49688)"
   ]
  },
  {
   "cell_type": "code",
   "execution_count": 20,
   "metadata": {},
   "outputs": [
    {
     "data": {
      "text/plain": [
       "89.4384"
      ]
     },
     "execution_count": 20,
     "metadata": {},
     "output_type": "execute_result"
    }
   ],
   "source": [
    "(120 * 0.74532)"
   ]
  },
  {
   "cell_type": "code",
   "execution_count": 23,
   "metadata": {},
   "outputs": [
    {
     "data": {
      "text/plain": [
       "60"
      ]
     },
     "execution_count": 23,
     "metadata": {},
     "output_type": "execute_result"
    }
   ],
   "source": [
    "90 - 30"
   ]
  },
  {
   "cell_type": "code",
   "execution_count": 34,
   "metadata": {},
   "outputs": [],
   "source": [
    "consumo = 301"
   ]
  },
  {
   "cell_type": "code",
   "execution_count": 26,
   "metadata": {},
   "outputs": [
    {
     "data": {
      "text/plain": [
       "60"
      ]
     },
     "execution_count": 26,
     "metadata": {},
     "output_type": "execute_result"
    }
   ],
   "source": [
    "consumo - (30)"
   ]
  },
  {
   "cell_type": "code",
   "execution_count": null,
   "metadata": {},
   "outputs": [],
   "source": []
  }
 ],
 "metadata": {
  "kernelspec": {
   "display_name": "Python 3",
   "language": "python",
   "name": "python3"
  },
  "language_info": {
   "codemirror_mode": {
    "name": "ipython",
    "version": 3
   },
   "file_extension": ".py",
   "mimetype": "text/x-python",
   "name": "python",
   "nbconvert_exporter": "python",
   "pygments_lexer": "ipython3",
   "version": "3.7.2"
  }
 },
 "nbformat": 4,
 "nbformat_minor": 2
}
