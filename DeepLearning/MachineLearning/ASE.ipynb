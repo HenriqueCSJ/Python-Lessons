{
 "cells": [
  {
   "cell_type": "code",
   "execution_count": 3,
   "metadata": {},
   "outputs": [],
   "source": [
    "from ase.io import cif, read, write"
   ]
  },
  {
   "cell_type": "code",
   "execution_count": 7,
   "metadata": {},
   "outputs": [
    {
     "name": "stderr",
     "output_type": "stream",
     "text": [
      "/home/henrique/bin/anaconda/envs/ml-python/lib/python3.6/site-packages/ase/io/cif.py:321: UserWarning: crystal system 'monoclinic' is not interpreated for space group Spacegroup(14, setting=1). This may result in wrong setting!\n",
      "  setting_name, spacegroup))\n"
     ]
    }
   ],
   "source": [
    "cell = read(\"1447667.cif\")"
   ]
  },
  {
   "cell_type": "code",
   "execution_count": 35,
   "metadata": {},
   "outputs": [],
   "source": [
    "positions = cell.get_positions(wrap=True)"
   ]
  },
  {
   "cell_type": "code",
   "execution_count": 34,
   "metadata": {},
   "outputs": [],
   "source": [
    "atoms = cell.get_atomic_numbers()"
   ]
  },
  {
   "cell_type": "code",
   "execution_count": 33,
   "metadata": {},
   "outputs": [
    {
     "data": {
      "text/plain": [
       "3603.6812574915934"
      ]
     },
     "execution_count": 33,
     "metadata": {},
     "output_type": "execute_result"
    }
   ],
   "source": [
    "cell.get_volume()"
   ]
  },
  {
   "cell_type": "code",
   "execution_count": 42,
   "metadata": {},
   "outputs": [],
   "source": [
    "atoms_positions = zip(atoms, positions)"
   ]
  },
  {
   "cell_type": "code",
   "execution_count": 92,
   "metadata": {},
   "outputs": [
    {
     "data": {
      "text/plain": [
       "[27, [3.2968195849913267, 2.060439502, 17.995619045212923]]"
      ]
     },
     "execution_count": 92,
     "metadata": {},
     "output_type": "execute_result"
    }
   ],
   "source": [
    "[atoms[0], list(positions[0])]"
   ]
  },
  {
   "cell_type": "code",
   "execution_count": 58,
   "metadata": {},
   "outputs": [],
   "source": [
    "zipped = [list(t) for t in zip(atoms, list(positions))]"
   ]
  },
  {
   "cell_type": "code",
   "execution_count": 100,
   "metadata": {},
   "outputs": [],
   "source": [
    "my_list = []"
   ]
  },
  {
   "cell_type": "code",
   "execution_count": 101,
   "metadata": {},
   "outputs": [],
   "source": [
    "for i in range(0, cell.get_number_of_atoms()):\n",
    "    my_list.append([atoms[i], list(positions[i])])"
   ]
  },
  {
   "cell_type": "code",
   "execution_count": 105,
   "metadata": {},
   "outputs": [
    {
     "data": {
      "text/plain": [
       "[27, [3.2968195849913267, 2.060439502, 17.995619045212923]]"
      ]
     },
     "execution_count": 105,
     "metadata": {},
     "output_type": "execute_result"
    }
   ],
   "source": [
    "my_list[0]"
   ]
  },
  {
   "cell_type": "code",
   "execution_count": 104,
   "metadata": {},
   "outputs": [
    {
     "data": {
      "text/plain": [
       "{'spacegroup': Spacegroup(14, setting=1),\n",
       " 'unit_cell': 'conventional',\n",
       " 'occupancy': {0: {'Co': 1},\n",
       "  1: {'S': 1},\n",
       "  2: {'N': 1},\n",
       "  3: {'N': 1},\n",
       "  4: {'C': 1},\n",
       "  5: {'C': 1},\n",
       "  6: {'H': 1},\n",
       "  7: {'H': 1},\n",
       "  8: {'H': 1},\n",
       "  9: {'C': 1},\n",
       "  10: {'H': 1},\n",
       "  11: {'H': 1},\n",
       "  12: {'H': 1},\n",
       "  13: {'C': 1},\n",
       "  14: {'H': 1},\n",
       "  15: {'H': 1},\n",
       "  16: {'H': 1},\n",
       "  17: {'C': 1},\n",
       "  18: {'H': 1},\n",
       "  19: {'H': 1},\n",
       "  20: {'H': 1},\n",
       "  21: {'S': 1},\n",
       "  22: {'N': 1},\n",
       "  23: {'N': 1},\n",
       "  24: {'C': 1},\n",
       "  25: {'C': 1},\n",
       "  26: {'H': 1},\n",
       "  27: {'H': 1},\n",
       "  28: {'H': 1},\n",
       "  29: {'C': 1},\n",
       "  30: {'H': 1},\n",
       "  31: {'H': 1},\n",
       "  32: {'H': 1},\n",
       "  33: {'C': 1},\n",
       "  34: {'H': 1},\n",
       "  35: {'H': 1},\n",
       "  36: {'H': 1},\n",
       "  37: {'C': 1},\n",
       "  38: {'H': 1},\n",
       "  39: {'H': 1},\n",
       "  40: {'H': 1},\n",
       "  41: {'S': 1},\n",
       "  42: {'N': 1},\n",
       "  43: {'N': 1},\n",
       "  44: {'C': 1},\n",
       "  45: {'C': 1},\n",
       "  46: {'H': 1},\n",
       "  47: {'H': 1},\n",
       "  48: {'H': 1},\n",
       "  49: {'C': 1},\n",
       "  50: {'H': 1},\n",
       "  51: {'H': 1},\n",
       "  52: {'H': 1},\n",
       "  53: {'C': 1},\n",
       "  54: {'H': 1},\n",
       "  55: {'H': 1},\n",
       "  56: {'H': 1},\n",
       "  57: {'C': 1},\n",
       "  58: {'H': 1},\n",
       "  59: {'H': 1},\n",
       "  60: {'H': 1},\n",
       "  61: {'S': 1},\n",
       "  62: {'N': 1},\n",
       "  63: {'N': 1},\n",
       "  64: {'C': 1},\n",
       "  65: {'C': 1},\n",
       "  66: {'H': 1},\n",
       "  67: {'H': 1},\n",
       "  68: {'H': 1},\n",
       "  69: {'C': 1},\n",
       "  70: {'H': 1},\n",
       "  71: {'H': 1},\n",
       "  72: {'H': 1},\n",
       "  73: {'C': 1},\n",
       "  74: {'H': 1},\n",
       "  75: {'H': 1},\n",
       "  76: {'H': 1},\n",
       "  77: {'C': 1},\n",
       "  78: {'H': 1},\n",
       "  79: {'H': 1},\n",
       "  80: {'H': 1},\n",
       "  81: {'Cl': 1},\n",
       "  82: {'O': 1},\n",
       "  83: {'O': 1},\n",
       "  84: {'O': 1},\n",
       "  85: {'O': 1},\n",
       "  86: {'Cl': 1},\n",
       "  87: {'O': 1},\n",
       "  88: {'O': 1},\n",
       "  89: {'O': 1},\n",
       "  90: {'O': 1}}}"
      ]
     },
     "execution_count": 104,
     "metadata": {},
     "output_type": "execute_result"
    }
   ],
   "source": [
    "cell.info"
   ]
  },
  {
   "cell_type": "code",
   "execution_count": null,
   "metadata": {},
   "outputs": [],
   "source": []
  }
 ],
 "metadata": {
  "kernelspec": {
   "display_name": "Python 3",
   "language": "python",
   "name": "python3"
  },
  "language_info": {
   "codemirror_mode": {
    "name": "ipython",
    "version": 3
   },
   "file_extension": ".py",
   "mimetype": "text/x-python",
   "name": "python",
   "nbconvert_exporter": "python",
   "pygments_lexer": "ipython3",
   "version": "3.6.7"
  }
 },
 "nbformat": 4,
 "nbformat_minor": 2
}
