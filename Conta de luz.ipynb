{
 "cells": [
  {
   "cell_type": "markdown",
   "metadata": {},
   "source": [
    "# Light - Tarifas"
   ]
  },
  {
   "cell_type": "code",
   "execution_count": 68,
   "metadata": {},
   "outputs": [
    {
     "name": "stdout",
     "output_type": "stream",
     "text": [
      "222.37403\n"
     ]
    }
   ],
   "source": [
    "# Imposto\n",
    "if consumo <= 50:\n",
    "    imposto = gasto\n",
    "elif consumo <= 300:\n",
    "    imposto = gasto * 1.2\n",
    "elif consumo <= 450:\n",
    "    imposto = gasto * 1.31\n",
    "else:\n",
    "    imposto = gasto * 1.32\n",
    "print(total)"
   ]
  },
  {
   "cell_type": "code",
   "execution_count": 1,
   "metadata": {},
   "outputs": [],
   "source": [
    "# Até 30 kW/h = 0.28985\n",
    "# de 31 a 100 kW/h = 0.49688\n",
    "# De 101 a 220 kW/h = 0.74532\n",
    "# > 220 kW/h = 0.82813\n",
    "\n",
    "def conta_de_luz(valor_a, valor_b):\n",
    "    consumo = valor_b - valor_a\n",
    "\n",
    "    if consumo <= 30:\n",
    "        gasto = consumo * 0.28985\n",
    "    elif consumo <= 100:\n",
    "        gasto = ((consumo - 30) * 0.49688) + (30 * 0.28985)\n",
    "    elif consumo <= 220:\n",
    "        gasto = ((consumo - 100) * 0.74532) + (70 * 0.49688) + (30 * 0.28985)\n",
    "    else:\n",
    "        gasto = ((consumo - 220) * 0.82813) + (120 * 0.74532) + \\\n",
    "            (70 * 0.49688) + (30 * 0.28985)\n",
    "\n",
    "    # Imposto\n",
    "    if consumo <= 50:\n",
    "        imposto = 0\n",
    "    elif consumo <= 300:\n",
    "        imposto = gasto*0.2\n",
    "    elif consumo <= 450:\n",
    "        imposto = gasto*0.31\n",
    "    else:\n",
    "        imposto = gasto*0.32\n",
    "\n",
    "    # Iluminação pública\n",
    "    if consumo <= 50:\n",
    "        ilum_pub = (gasto) * 0\n",
    "    elif consumo <= 100:\n",
    "        ilum_pub = 8.94\n",
    "    elif consumo <= 150:\n",
    "        ilum_pub = 13.41\n",
    "    elif consumo <= 200:\n",
    "        ilum_pub = 17.89\n",
    "    elif consumo <= 500:\n",
    "        ilum_pub = 22.38\n",
    "    else:\n",
    "        ilum_pub = 26.85\n",
    "    print(\"Consumo de {} kW/h\".format(consumo))\n",
    "    print(\"Você está pagando R$ {0:.2f} de imposto\".format(imposto))\n",
    "    print(\"Sua conta de energia elétrica é R$ {0:.2f} de consumo e R$ {1:.2f} de iluminação pública, totalizando R$ {2:.2f}\".format(\n",
    "        gasto, ilum_pub, gasto + ilum_pub))"
   ]
  },
  {
   "cell_type": "code",
   "execution_count": 5,
   "metadata": {},
   "outputs": [
    {
     "name": "stdout",
     "output_type": "stream",
     "text": [
      "222.93269409907285\n"
     ]
    }
   ],
   "source": [
    "a =\t9.16176439331299E-02\n",
    "b =\t9.99036068253655E-01\n",
    "c =\t1.41705422216711E+00\n",
    "x = 301\n",
    "y = a*(b**x)*(x**c)\n",
    "print(y)"
   ]
  },
  {
   "cell_type": "code",
   "execution_count": 3,
   "metadata": {},
   "outputs": [
    {
     "name": "stdout",
     "output_type": "stream",
     "text": [
      "Consumo de 263 kW/h\n",
      "Você está pagando R$ 33.71 de imposto\n",
      "Sua conta de energia elétrica é R$ 168.53 de consumo e R$ 22.38 de iluminação pública, totalizando R$ 190.91\n"
     ]
    }
   ],
   "source": [
    "conta_de_luz(1215, 1478)"
   ]
  },
  {
   "cell_type": "code",
   "execution_count": 6,
   "metadata": {},
   "outputs": [],
   "source": [
    "from sympy.interactive import printing\n",
    "printing.init_printing(use_latex = True)\n",
    "\n",
    "import numpy as np\n",
    "import sympy as sp"
   ]
  },
  {
   "cell_type": "code",
   "execution_count": 7,
   "metadata": {},
   "outputs": [],
   "source": [
    "a = sp.Symbol(\"a\")\n",
    "b = sp.Symbol(\"b\")\n",
    "c = sp.Symbol(\"c\")\n",
    "x = sp.Symbol(\"x\")\n",
    "y = sp.Symbol(\"y\")"
   ]
  },
  {
   "cell_type": "code",
   "execution_count": 8,
   "metadata": {},
   "outputs": [
    {
     "name": "stdout",
     "output_type": "stream",
     "text": [
      "0.0916176439331299*0.999036068253655**x*x**1.41705422216711\n"
     ]
    }
   ],
   "source": [
    "a =\t9.16176439331299E-02\n",
    "b =\t9.99036068253655E-01\n",
    "c =\t1.41705422216711E+00\n",
    "y = a*(b**x)*(x**c)\n",
    "print(y)"
   ]
  },
  {
   "cell_type": "code",
   "execution_count": 9,
   "metadata": {},
   "outputs": [
    {
     "data": {
      "image/png": "[encoded data removed]",
      "text/latex": [
       "$$0.0916176439331299 \\cdot 0.999036068253655^{x} x^{1.41705422216711}$$"
      ],
      "text/plain": [
       "                                    x  1.41705422216711\n",
       "0.0916176439331299⋅0.999036068253655 ⋅x                "
      ]
     },
     "metadata": {},
     "output_type": "display_data"
    }
   ],
   "source": [
    "display(y)"
   ]
  },
  {
   "cell_type": "code",
   "execution_count": 11,
   "metadata": {},
   "outputs": [
    {
     "data": {
      "image/png": "[encoded data removed]",
      "text/plain": [
       "<Figure size 432x288 with 1 Axes>"
      ]
     },
     "metadata": {
      "needs_background": "light"
     },
     "output_type": "display_data"
    },
    {
     "data": {
      "text/plain": [
       "<sympy.plotting.plot.Plot at 0x29438541048>"
      ]
     },
     "execution_count": 11,
     "metadata": {},
     "output_type": "execute_result"
    }
   ],
   "source": [
    "sp.plot(y)"
   ]
  },
  {
   "cell_type": "code",
   "execution_count": null,
   "metadata": {},
   "outputs": [],
   "source": []
  }
 ],
 "metadata": {
  "kernelspec": {
   "display_name": "Python 3",
   "language": "python",
   "name": "python3"
  },
  "language_info": {
   "codemirror_mode": {
    "name": "ipython",
    "version": 3
   },
   "file_extension": ".py",
   "mimetype": "text/x-python",
   "name": "python",
   "nbconvert_exporter": "python",
   "pygments_lexer": "ipython3",
   "version": "3.6.8"
  }
 },
 "nbformat": 4,
 "nbformat_minor": 2
}
