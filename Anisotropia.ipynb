{
 "cells": [
  {
   "cell_type": "markdown",
   "metadata": {},
   "source": [
    "# Anisotropia"
   ]
  },
  {
   "cell_type": "code",
   "execution_count": 3,
   "metadata": {},
   "outputs": [],
   "source": [
    "from sympy.interactive import printing\n",
    "from sympy.physics.quantum import Operator\n",
    "from sympy.functions import Abs\n",
    "printing.init_printing(use_latex = True)\n",
    "\n",
    "import numpy as np\n",
    "import sympy as sp"
   ]
  },
  {
   "cell_type": "code",
   "execution_count": 4,
   "metadata": {},
   "outputs": [],
   "source": [
    "H = Operator(\"H\")\n",
    "D = sp.Symbol(\"D\")\n",
    "E = sp.Symbol(\"E\")\n",
    "S_x = Operator(\"S_x\")\n",
    "S_y = Operator(\"S_y\")\n",
    "S_z = Operator(\"S_z\")\n",
    "S = sp.Symbol(\"S\")\n",
    "U_eff = sp.Symbol(\"U_eff\")"
   ]
  },
  {
   "cell_type": "code",
   "execution_count": 5,
   "metadata": {},
   "outputs": [],
   "source": [
    "H = D*(S_z**2 - S*(S+1)/3) + E*(S_x**2 - S_y)"
   ]
  },
  {
   "cell_type": "code",
   "execution_count": 6,
   "metadata": {},
   "outputs": [
    {
     "data": {
      "image/png": "[encoded data removed]",
      "text/latex": [
       "$$D \\left(- \\frac{S \\left(S + 1\\right)}{3} + S_{z}^{2}\\right) + E \\left(S_{x}^{2} - S_{y}\\right)$$"
      ],
      "text/plain": [
       "  ⎛  S⋅(S + 1)      2⎞     ⎛  2      ⎞\n",
       "D⋅⎜- ───────── + S_z ⎟ + E⋅⎝Sₓ  - S_y⎠\n",
       "  ⎝      3           ⎠                "
      ]
     },
     "execution_count": 6,
     "metadata": {},
     "output_type": "execute_result"
    }
   ],
   "source": [
    "H"
   ]
  },
  {
   "cell_type": "markdown",
   "metadata": {},
   "source": [
    "D = axial ZFS parameter\n",
    "\n",
    "E = rhombic or transverse ZFS parameter\n",
    "\n",
    "$\\hat{S}$ = Spin projection along a given axis"
   ]
  },
  {
   "cell_type": "code",
   "execution_count": 33,
   "metadata": {},
   "outputs": [],
   "source": [
    "def Ueff(spin, D):\n",
    "    \"\"\"Returns the Magnetic Effective Relaxation Barrier (Ueff)\n",
    "    \n",
    "    Arguments:\n",
    "        spin {Int of half integer} -- The total spin of the system. Three unpaired electrons = 3/2.\n",
    "        D {Int or float} -- The magnetic axial anisotropy component (D) in cm**-1. \n",
    "    \n",
    "    Returns:\n",
    "        Int or float -- Magnetic Effective Relaxation Barrier (Ueff) in cm**-1.\n",
    "    \"\"\"\n",
    "    if isinstance(spin, int):\n",
    "        U_eff = Abs(D)*(spin**2)\n",
    "    else:\n",
    "        U_eff = Abs(D)*(spin**2 - 1/4)\n",
    "    return U_eff"
   ]
  },
  {
   "cell_type": "code",
   "execution_count": 38,
   "metadata": {},
   "outputs": [
    {
     "data": {
      "image/png": "[encoded data removed]",
      "text/latex": [
       "$$60.0$$"
      ],
      "text/plain": [
       "60.0000000000000"
      ]
     },
     "execution_count": 38,
     "metadata": {},
     "output_type": "execute_result"
    }
   ],
   "source": [
    "Ueff(5/2, -10)"
   ]
  },
  {
   "cell_type": "code",
   "execution_count": 16,
   "metadata": {},
   "outputs": [],
   "source": [
    "from itertools import repeat, product, combinations\n",
    "from collections import Counter\n",
    "\n",
    "term_letters = 'SPDFGHIKLMNOQRTUVWXYZ'\n",
    "\n",
    "def get_term_symbols(l, r):\n",
    "    \"\"\"Return a list of term symbols for the configuration l^r.\"\"\"\n",
    "\n",
    "    # Total number of (ml, ms) pairs for this subshell.\n",
    "    n = (2*l+1)*2\n",
    "    # All possible values of ml = -l, -l+1, ..., l-1, l.\n",
    "    ml = list(range(-l,l+1))\n",
    "    # All possible values of 2ms = -1, 1. That is, ms = -1/2, +1/2. We work\n",
    "    # with 2ms instead of ms so that we can handle integers only.\n",
    "    ms2 = [-1,1]\n",
    "    # All possible (ml, 2ms) pairs for this subshell.\n",
    "    ml_ms2 = list(product(ml, ms2))\n",
    "\n",
    "    # All possible microstates for r electrons in this subshell.\n",
    "    microstates = list(combinations(range(n), r))\n",
    "    # The totals ML = sum(ml) and MS2 = sum(2ms) for each microstate\n",
    "    ML = [sum([ml_ms2[microstate[j]][0] for j in range(r)])\n",
    "                                    for microstate in microstates]\n",
    "    MS2 = [sum([ml_ms2[microstate[j]][1] for j in range(r)])\n",
    "                                    for microstate in microstates]\n",
    "    # Count the microstates (MS, ML). Store them this way round so we can\n",
    "    # pick off the ground state term (maximum S) first.\n",
    "    MS2_ML = Counter(zip(MS2,ML))\n",
    "    N = len(microstates)\n",
    "\n",
    "    # Extract the term symbols by starting at the minimum (ML, MS) value and\n",
    "    # removing microstates corresponding to the (L, S) term it belongs to.\n",
    "    # Repeat until we're out of microstates.\n",
    "    terms = []\n",
    "    while N>0:\n",
    "        S, L = min(MS2_ML)\n",
    "        terms.append('{}{}'.format(-S+1, term_letters[-L]))\n",
    "        for ML in range(L, -L+1):\n",
    "            for MS in range(S, -S+1,2):\n",
    "                MS2_ML[MS,ML] -= 1\n",
    "                if MS2_ML[MS,ML] == 0:\n",
    "                    del MS2_ML[MS,ML]\n",
    "                N -= 1\n",
    "    return terms"
   ]
  },
  {
   "cell_type": "code",
   "execution_count": 32,
   "metadata": {},
   "outputs": [
    {
     "data": {
      "text/plain": [
       "['6S',\n",
       " '4G',\n",
       " '4F',\n",
       " '4D',\n",
       " '4P',\n",
       " '2I',\n",
       " '2H',\n",
       " '2G',\n",
       " '2G',\n",
       " '2F',\n",
       " '2F',\n",
       " '2D',\n",
       " '2D',\n",
       " '2D',\n",
       " '2P',\n",
       " '2S']"
      ]
     },
     "execution_count": 32,
     "metadata": {},
     "output_type": "execute_result"
    }
   ],
   "source": [
    "get_term_symbols(2,5)"
   ]
  },
  {
   "cell_type": "code",
   "execution_count": 27,
   "metadata": {},
   "outputs": [
    {
     "data": {
      "text/plain": [
       "['6S',\n",
       " '4G',\n",
       " '4F',\n",
       " '4D',\n",
       " '4P',\n",
       " '2I',\n",
       " '2H',\n",
       " '2G',\n",
       " '2G',\n",
       " '2F',\n",
       " '2F',\n",
       " '2D',\n",
       " '2D',\n",
       " '2D',\n",
       " '2P',\n",
       " '2S']"
      ]
     },
     "execution_count": 27,
     "metadata": {},
     "output_type": "execute_result"
    }
   ],
   "source": []
  },
  {
   "cell_type": "code",
   "execution_count": null,
   "metadata": {},
   "outputs": [],
   "source": []
  },
  {
   "cell_type": "code",
   "execution_count": null,
   "metadata": {},
   "outputs": [],
   "source": []
  }
 ],
 "metadata": {
  "kernelspec": {
   "display_name": "Python 3",
   "language": "python",
   "name": "python3"
  },
  "language_info": {
   "codemirror_mode": {
    "name": "ipython",
    "version": 3
   },
   "file_extension": ".py",
   "mimetype": "text/x-python",
   "name": "python",
   "nbconvert_exporter": "python",
   "pygments_lexer": "ipython3",
   "version": "3.7.2"
  }
 },
 "nbformat": 4,
 "nbformat_minor": 2
}
